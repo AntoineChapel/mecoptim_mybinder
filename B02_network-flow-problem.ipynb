{
 "cells": [
  {
   "cell_type": "markdown",
   "metadata": {},
   "source": [
    "# <center>Block 2: Linear programming: min-cost flow problems</center>\n",
    "### <center>Alfred Galichon (NYU & Sciences Po)</center>\n",
    "## <center>'math+econ+code' masterclass on optimal transport and economic applications</center>\n",
    "<center>© 2018-2021 by Alfred Galichon. Past and present support from NSF grant DMS-1716489, ERC grant CoG-866274, and contributions by Jules Baudet, Pauline Corblet, Gregory Dannay, and James Nesbit are acknowledged.</center>\n",
    "\n",
    "#### <center>With python code examples</center>"
   ]
  },
  {
   "cell_type": "markdown",
   "metadata": {},
   "source": [
    "### Learning Objectives \n",
    "\n",
    "* Basic concepts of directed networks\n",
    "\n",
    "* The min-cost flow problem\n",
    "\n",
    "* Duality, optimality and equilibrium\n",
    "\n",
    "### References\n",
    "\n",
    "* Galichon, *Optimal Transport Methods in Economics*. Ch.8.\n",
    "\n",
    "* Tolstoi (1930). Methods of finding the minimal total kilometrage in cargo transportation planning in space. *Transportation Planning* [in Russian]\n",
    "\n",
    "* Koopmans (1949). Optimum utilization of the transportation system. *Econometrica*.\n",
    "\n",
    "* Schrijver (2002). On the History of the Transportation and Maximum Flow Problems. *Mathematical programming*."
   ]
  },
  {
   "cell_type": "markdown",
   "metadata": {},
   "source": [
    "## Motivation\n",
    "\n",
    "### Motivation: network flow problems\n",
    "\n",
    "In 1930 Tolstoi, a Russian engineer, has to optimize the shipping of cement from factories to cities in the Soviet union through railway.\n",
    "\n",
    "* each factory produces a fixed number of tons\n",
    "\n",
    "* each city needs a fixed number of tons -- for now, we'll assume total production=total consumption\n",
    "\n",
    "* each factory is connected by rail with a few cities, and the corresponding distance is given\n",
    "\n",
    "* how to ship in order to minimize the total distance travelled?\n",
    "\n",
    "This problem belongs to the class of *min-cost flow problems*, an important class of linear programming problems, which are the focus of today's lecture. A decade before the invention of linear programming and the work of Kantorovich, Koopmans and Dantzig, Tolstoi described a heuristic method for solving the problem, which led to the optimal solution. As one can recover using modern tools, and will see that his solution was right.\n",
    "\n",
    "The *shortest path problem*, or how to find the path of minimal distance from a point to another in a network, also belongs in this class. "
   ]
  },
  {
   "cell_type": "markdown",
   "metadata": {},
   "source": [
    "Fist, let's load libraries we'll need. We'll need `os` and `pandas` for data importation and manipulations, `numpy` and part of `scipy` for computations, `gurobipy` for linear programming using Gurobi, `osmnx` to import map data from [OpenStreetMap](https://www.openstreetmap.org/), `networkx` for operations on networks, parts of `matplotlib` for displays,  \n"
   ]
  },
  {
   "cell_type": "code",
   "execution_count": 1,
   "metadata": {},
   "outputs": [
    {
     "ename": "ModuleNotFoundError",
     "evalue": "No module named 'osmnx'",
     "output_type": "error",
     "traceback": [
      "\u001b[1;31m---------------------------------------------------------------------------\u001b[0m",
      "\u001b[1;31mModuleNotFoundError\u001b[0m                       Traceback (most recent call last)",
      "\u001b[1;32m<ipython-input-1-d4a103aeed40>\u001b[0m in \u001b[0;36m<module>\u001b[1;34m\u001b[0m\n\u001b[1;32m----> 1\u001b[1;33m \u001b[1;32mimport\u001b[0m \u001b[0mosmnx\u001b[0m \u001b[1;32mas\u001b[0m \u001b[0mox\u001b[0m\u001b[1;33m\u001b[0m\u001b[1;33m\u001b[0m\u001b[0m\n\u001b[0m",
      "\u001b[1;31mModuleNotFoundError\u001b[0m: No module named 'osmnx'"
     ]
    }
   ],
   "source": [
    "import osmnx as ox"
   ]
  },
  {
   "cell_type": "code",
   "execution_count": 3,
   "metadata": {},
   "outputs": [],
   "source": [
    "import os\n",
    "import pandas as pd\n",
    "import numpy as np\n",
    "import scipy.sparse as sp\n",
    "\n",
    "import networkx as nx\n",
    "%matplotlib inline\n",
    "import matplotlib as mpl\n",
    "import matplotlib.pyplot as plt\n",
    "from matplotlib.animation import FuncAnimation\n",
    "# !python -m pip install -i https://pypi.gurobi.com gurobipy ## only if Gurobi not here\n",
    "import gurobipy as grb\n",
    "\n",
    "\n",
    "#thepath = os.path.join(os.getcwd(),'data_mec_optim/')\n",
    "thepath = 'https://raw.githubusercontent.com/math-econ-code/mec_optim_2021-01/master/data_mec_optim/'"
   ]
  },
  {
   "cell_type": "markdown",
   "metadata": {},
   "source": [
    "\n",
    "# A look at our data\n",
    "\n",
    "We will be looking at 3 types of data, which we each briefly describe.\n",
    "\n",
    "\n",
    "\n",
    "## Soviet Planning Problem\n",
    "\n",
    "Tolstoi's original data, collected by Schrijver (2002). There are 68 Soviet cities and 10 factories, and 155 links connecting a factory to a city. This yields a sparse $68\\times10$ matrix. Two vectors listing the demand of each city and the supply of each factory are also specified. This is stored in a $69\\times11$ matrix, where we have appended the demand/supply vectors to the right and to the botton of the distance matrix.\n",
    "\n",
    "We read the data and display it."
   ]
  },
  {
   "cell_type": "code",
   "execution_count": 4,
   "metadata": {},
   "outputs": [
    {
     "data": {
      "text/html": [
       "<div>\n",
       "<style scoped>\n",
       "    .dataframe tbody tr th:only-of-type {\n",
       "        vertical-align: middle;\n",
       "    }\n",
       "\n",
       "    .dataframe tbody tr th {\n",
       "        vertical-align: top;\n",
       "    }\n",
       "\n",
       "    .dataframe thead th {\n",
       "        text-align: right;\n",
       "    }\n",
       "</style>\n",
       "<table border=\"1\" class=\"dataframe\">\n",
       "  <thead>\n",
       "    <tr style=\"text-align: right;\">\n",
       "      <th></th>\n",
       "      <th>X</th>\n",
       "      <th>Arkhangelsk</th>\n",
       "      <th>Yaroslavl</th>\n",
       "      <th>Murom</th>\n",
       "      <th>Balakhonikha</th>\n",
       "      <th>Dzerzhinsk</th>\n",
       "      <th>Kishert</th>\n",
       "      <th>Sverdlovsk</th>\n",
       "      <th>Artemovsk</th>\n",
       "      <th>Iledzhk</th>\n",
       "      <th>Dekonskaya</th>\n",
       "      <th>demand:</th>\n",
       "    </tr>\n",
       "  </thead>\n",
       "  <tbody>\n",
       "    <tr>\n",
       "      <th>0</th>\n",
       "      <td>Agryz</td>\n",
       "      <td>NaN</td>\n",
       "      <td>NaN</td>\n",
       "      <td>NaN</td>\n",
       "      <td>709.0</td>\n",
       "      <td>1064.0</td>\n",
       "      <td>693.0</td>\n",
       "      <td>NaN</td>\n",
       "      <td>NaN</td>\n",
       "      <td>NaN</td>\n",
       "      <td>NaN</td>\n",
       "      <td>2.0</td>\n",
       "    </tr>\n",
       "    <tr>\n",
       "      <th>1</th>\n",
       "      <td>Aleksandrov</td>\n",
       "      <td>NaN</td>\n",
       "      <td>NaN</td>\n",
       "      <td>NaN</td>\n",
       "      <td>NaN</td>\n",
       "      <td>397.0</td>\n",
       "      <td>NaN</td>\n",
       "      <td>NaN</td>\n",
       "      <td>1180.0</td>\n",
       "      <td>NaN</td>\n",
       "      <td>NaN</td>\n",
       "      <td>4.0</td>\n",
       "    </tr>\n",
       "    <tr>\n",
       "      <th>2</th>\n",
       "      <td>Almaznaya</td>\n",
       "      <td>NaN</td>\n",
       "      <td>NaN</td>\n",
       "      <td>NaN</td>\n",
       "      <td>NaN</td>\n",
       "      <td>NaN</td>\n",
       "      <td>NaN</td>\n",
       "      <td>NaN</td>\n",
       "      <td>81.0</td>\n",
       "      <td>NaN</td>\n",
       "      <td>65.0</td>\n",
       "      <td>1.5</td>\n",
       "    </tr>\n",
       "    <tr>\n",
       "      <th>3</th>\n",
       "      <td>Alchevskaya</td>\n",
       "      <td>NaN</td>\n",
       "      <td>NaN</td>\n",
       "      <td>NaN</td>\n",
       "      <td>NaN</td>\n",
       "      <td>NaN</td>\n",
       "      <td>NaN</td>\n",
       "      <td>NaN</td>\n",
       "      <td>106.0</td>\n",
       "      <td>NaN</td>\n",
       "      <td>114.0</td>\n",
       "      <td>4.0</td>\n",
       "    </tr>\n",
       "    <tr>\n",
       "      <th>4</th>\n",
       "      <td>Baku</td>\n",
       "      <td>NaN</td>\n",
       "      <td>NaN</td>\n",
       "      <td>NaN</td>\n",
       "      <td>NaN</td>\n",
       "      <td>NaN</td>\n",
       "      <td>NaN</td>\n",
       "      <td>NaN</td>\n",
       "      <td>1554.0</td>\n",
       "      <td>NaN</td>\n",
       "      <td>1563.0</td>\n",
       "      <td>10.0</td>\n",
       "    </tr>\n",
       "    <tr>\n",
       "      <th>...</th>\n",
       "      <td>...</td>\n",
       "      <td>...</td>\n",
       "      <td>...</td>\n",
       "      <td>...</td>\n",
       "      <td>...</td>\n",
       "      <td>...</td>\n",
       "      <td>...</td>\n",
       "      <td>...</td>\n",
       "      <td>...</td>\n",
       "      <td>...</td>\n",
       "      <td>...</td>\n",
       "      <td>...</td>\n",
       "    </tr>\n",
       "    <tr>\n",
       "      <th>64</th>\n",
       "      <td>Shchigry</td>\n",
       "      <td>NaN</td>\n",
       "      <td>NaN</td>\n",
       "      <td>NaN</td>\n",
       "      <td>NaN</td>\n",
       "      <td>NaN</td>\n",
       "      <td>NaN</td>\n",
       "      <td>NaN</td>\n",
       "      <td>566.0</td>\n",
       "      <td>NaN</td>\n",
       "      <td>549.0</td>\n",
       "      <td>4.0</td>\n",
       "    </tr>\n",
       "    <tr>\n",
       "      <th>65</th>\n",
       "      <td>Yudino</td>\n",
       "      <td>NaN</td>\n",
       "      <td>NaN</td>\n",
       "      <td>NaN</td>\n",
       "      <td>403.0</td>\n",
       "      <td>757.0</td>\n",
       "      <td>999.0</td>\n",
       "      <td>NaN</td>\n",
       "      <td>NaN</td>\n",
       "      <td>NaN</td>\n",
       "      <td>NaN</td>\n",
       "      <td>0.5</td>\n",
       "    </tr>\n",
       "    <tr>\n",
       "      <th>66</th>\n",
       "      <td>Yama</td>\n",
       "      <td>NaN</td>\n",
       "      <td>NaN</td>\n",
       "      <td>NaN</td>\n",
       "      <td>NaN</td>\n",
       "      <td>NaN</td>\n",
       "      <td>NaN</td>\n",
       "      <td>NaN</td>\n",
       "      <td>44.0</td>\n",
       "      <td>NaN</td>\n",
       "      <td>52.0</td>\n",
       "      <td>5.0</td>\n",
       "    </tr>\n",
       "    <tr>\n",
       "      <th>67</th>\n",
       "      <td>Yasinovataya</td>\n",
       "      <td>NaN</td>\n",
       "      <td>NaN</td>\n",
       "      <td>NaN</td>\n",
       "      <td>NaN</td>\n",
       "      <td>NaN</td>\n",
       "      <td>NaN</td>\n",
       "      <td>NaN</td>\n",
       "      <td>85.0</td>\n",
       "      <td>NaN</td>\n",
       "      <td>93.0</td>\n",
       "      <td>6.0</td>\n",
       "    </tr>\n",
       "    <tr>\n",
       "      <th>68</th>\n",
       "      <td>supply:</td>\n",
       "      <td>5.0</td>\n",
       "      <td>11.5</td>\n",
       "      <td>8.5</td>\n",
       "      <td>12.0</td>\n",
       "      <td>100.0</td>\n",
       "      <td>12.0</td>\n",
       "      <td>15.0</td>\n",
       "      <td>314.0</td>\n",
       "      <td>10.0</td>\n",
       "      <td>55.0</td>\n",
       "      <td>543.0</td>\n",
       "    </tr>\n",
       "  </tbody>\n",
       "</table>\n",
       "<p>69 rows × 12 columns</p>\n",
       "</div>"
      ],
      "text/plain": [
       "               X  Arkhangelsk  Yaroslavl  Murom  Balakhonikha  Dzerzhinsk  \\\n",
       "0          Agryz          NaN        NaN    NaN         709.0      1064.0   \n",
       "1    Aleksandrov          NaN        NaN    NaN           NaN       397.0   \n",
       "2      Almaznaya          NaN        NaN    NaN           NaN         NaN   \n",
       "3    Alchevskaya          NaN        NaN    NaN           NaN         NaN   \n",
       "4           Baku          NaN        NaN    NaN           NaN         NaN   \n",
       "..           ...          ...        ...    ...           ...         ...   \n",
       "64      Shchigry          NaN        NaN    NaN           NaN         NaN   \n",
       "65        Yudino          NaN        NaN    NaN         403.0       757.0   \n",
       "66          Yama          NaN        NaN    NaN           NaN         NaN   \n",
       "67  Yasinovataya          NaN        NaN    NaN           NaN         NaN   \n",
       "68       supply:          5.0       11.5    8.5          12.0       100.0   \n",
       "\n",
       "    Kishert  Sverdlovsk  Artemovsk  Iledzhk  Dekonskaya  demand:  \n",
       "0     693.0         NaN        NaN      NaN         NaN      2.0  \n",
       "1       NaN         NaN     1180.0      NaN         NaN      4.0  \n",
       "2       NaN         NaN       81.0      NaN        65.0      1.5  \n",
       "3       NaN         NaN      106.0      NaN       114.0      4.0  \n",
       "4       NaN         NaN     1554.0      NaN      1563.0     10.0  \n",
       "..      ...         ...        ...      ...         ...      ...  \n",
       "64      NaN         NaN      566.0      NaN       549.0      4.0  \n",
       "65    999.0         NaN        NaN      NaN         NaN      0.5  \n",
       "66      NaN         NaN       44.0      NaN        52.0      5.0  \n",
       "67      NaN         NaN       85.0      NaN        93.0      6.0  \n",
       "68     12.0        15.0      314.0     10.0        55.0    543.0  \n",
       "\n",
       "[69 rows x 12 columns]"
      ]
     },
     "execution_count": 4,
     "metadata": {},
     "output_type": "execute_result"
    }
   ],
   "source": [
    "soviet_df = pd.read_csv(thepath+'networks_sovietplanning/distances.csv', sep=',',encoding = \"ISO-8859-1\")\n",
    "\n",
    "soviet_df"
   ]
  },
  {
   "cell_type": "markdown",
   "metadata": {},
   "source": [
    "Plants and cities are the *nodes* of our network. \n",
    "There are *arcs* directly connecting when there is a railway from the plant to the city. In that case, the entry of the corresponding cell is equal to the length of the arc. When there is none, the corresponding cell shows `NaN`.\n",
    "We will index the nodes from to `nbPlants+nbCities`, with the plants being indexed by 0,1,...`nbPlants-1`, and the cities being indexed by `nbPlants`, `nbPlants+1`, ... , `nbPlants+nbCities`.\n",
    "Let us collect the arcs and their corresponding distances.\n",
    "\n"
   ]
  },
  {
   "cell_type": "code",
   "execution_count": 5,
   "metadata": {},
   "outputs": [],
   "source": [
    "nbPlants = soviet_df.shape[1]-2\n",
    "nbCities = soviet_df.shape[0]-1\n",
    "arcsList = []\n",
    "costslist = []\n",
    "nodesList = [soviet_df.columns.to_numpy()[plant+1]+' Plant' for plant in range(nbPlants)] + [soviet_df.iloc[city,0]+' city' for city in range(nbCities)]\n",
    "for plant in range(nbPlants):\n",
    "    for city in range(nbCities):\n",
    "        if not pd.isna(soviet_df.iloc[city,plant+1]):\n",
    "            #arcsList.append((plant,nbPlants+city))\n",
    "            arcsList.append((nodesList[plant],nodesList[nbPlants+city]))\n",
    "            costslist.append(soviet_df.iloc[city,plant+1])\n",
    "nodesList = [soviet_df.columns.values[plant+1]+' Plant' for plant in range(nbPlants)] + [soviet_df.iloc[city,0]+' city' for city in range(nbCities)]"
   ]
  },
  {
   "cell_type": "markdown",
   "metadata": {},
   "source": [
    "We will create a class `network_problem` to collect and story the relevant information we need: nodes, arcs, and arcs length. We will add methods later."
   ]
  },
  {
   "cell_type": "code",
   "execution_count": 6,
   "metadata": {},
   "outputs": [
    {
     "name": "stdout",
     "output_type": "stream",
     "text": [
      "Number of nodes=78; number of arcs=155.\n"
     ]
    }
   ],
   "source": [
    "class network_problem:\n",
    "    def __init__(self,nodesList,arcsList,costsList):\n",
    "        self.nbNodes = len(nodesList)\n",
    "        self.nbArcs = len(arcsList)\n",
    "        self.nodesList = nodesList\n",
    "        self.arcsList = arcsList\n",
    "        self.costsList = costsList\n",
    "        self.nodesDict = {node:node_ind for (node,node_ind) in zip(self.nodesList,range(self.nbNodes))}\n",
    "        self.arcsDict = {arc:arc_ind for (arc,arc_ind) in zip(self.arcsList,range(self.nbArcs))}\n",
    "        print('Number of nodes='+str(self.nbNodes)+'; number of arcs='+str(self.nbArcs)+'.')\n",
    "\n",
    "soviet_pb = network_problem(nodesList,arcsList,costslist) "
   ]
  },
  {
   "cell_type": "markdown",
   "metadata": {},
   "source": [
    "## NYC subway network\n",
    "\n",
    "NYC subway network data: the network data are available on http://www.mta.info. This data is made of two files. The file `nodes.csv` lists the stations: each station is indexed by the line number; each line has the name of the station, and its spatial coordinates. The file `arcs.csv` lists the links between stations: each link specifies the index of the origin, the index of the destination, and the length of the segment. \n",
    "\n",
    "We shall store this information in a `network_problem` object called `subway_pb`."
   ]
  },
  {
   "cell_type": "code",
   "execution_count": 7,
   "metadata": {},
   "outputs": [
    {
     "name": "stdout",
     "output_type": "stream",
     "text": [
      "Number of nodes=501; number of arcs=1290.\n"
     ]
    }
   ],
   "source": [
    "arcs = pd.read_csv(thepath+'networks_subway/NYC/arcs.csv', sep=',')#.sort_values(by=['route_id'])\n",
    "nodes = pd.read_csv(thepath+ 'networks_subway/NYC/nodes.csv', sep=',')\n",
    "stopnames = [i+' '+j for i,j in zip(nodes.stop_name,nodes.route_id)]\n",
    "arcsList = [(stopnames[o-1],stopnames[d-1]) for (o,d) in list(zip(arcs.from_stop_nb,arcs.to_stop_nb))]\n",
    "subway_pb = network_problem(stopnames,arcsList,list(arcs.dis_line)) "
   ]
  },
  {
   "cell_type": "markdown",
   "metadata": {},
   "source": [
    "Stations' caracteristics are contained in `nodes` dataframe. The relevant information for us will be the name of the station, the horizontal spatial coordinate, and the vertical coordinates."
   ]
  },
  {
   "cell_type": "code",
   "execution_count": 8,
   "metadata": {},
   "outputs": [
    {
     "data": {
      "text/html": [
       "<div>\n",
       "<style scoped>\n",
       "    .dataframe tbody tr th:only-of-type {\n",
       "        vertical-align: middle;\n",
       "    }\n",
       "\n",
       "    .dataframe tbody tr th {\n",
       "        vertical-align: top;\n",
       "    }\n",
       "\n",
       "    .dataframe thead th {\n",
       "        text-align: right;\n",
       "    }\n",
       "</style>\n",
       "<table border=\"1\" class=\"dataframe\">\n",
       "  <thead>\n",
       "    <tr style=\"text-align: right;\">\n",
       "      <th></th>\n",
       "      <th>stop_name</th>\n",
       "      <th>flow</th>\n",
       "      <th>stop_lat</th>\n",
       "      <th>stop_lon</th>\n",
       "      <th>stop_id</th>\n",
       "      <th>stop_nb</th>\n",
       "      <th>route_id</th>\n",
       "    </tr>\n",
       "  </thead>\n",
       "  <tbody>\n",
       "    <tr>\n",
       "      <th>0</th>\n",
       "      <td>Van Cortlandt Park - 242 St</td>\n",
       "      <td>1000</td>\n",
       "      <td>40.889248</td>\n",
       "      <td>-73.898583</td>\n",
       "      <td>101</td>\n",
       "      <td>1</td>\n",
       "      <td>(1)</td>\n",
       "    </tr>\n",
       "    <tr>\n",
       "      <th>1</th>\n",
       "      <td>238 St</td>\n",
       "      <td>1000</td>\n",
       "      <td>40.884667</td>\n",
       "      <td>-73.900870</td>\n",
       "      <td>103</td>\n",
       "      <td>2</td>\n",
       "      <td>(1)</td>\n",
       "    </tr>\n",
       "    <tr>\n",
       "      <th>2</th>\n",
       "      <td>231 St</td>\n",
       "      <td>1000</td>\n",
       "      <td>40.878856</td>\n",
       "      <td>-73.904834</td>\n",
       "      <td>104</td>\n",
       "      <td>3</td>\n",
       "      <td>(1)</td>\n",
       "    </tr>\n",
       "  </tbody>\n",
       "</table>\n",
       "</div>"
      ],
      "text/plain": [
       "                     stop_name  flow   stop_lat   stop_lon stop_id  stop_nb  \\\n",
       "0  Van Cortlandt Park - 242 St  1000  40.889248 -73.898583     101        1   \n",
       "1                       238 St  1000  40.884667 -73.900870     103        2   \n",
       "2                       231 St  1000  40.878856 -73.904834     104        3   \n",
       "\n",
       "  route_id  \n",
       "0      (1)  \n",
       "1      (1)  \n",
       "2      (1)  "
      ]
     },
     "execution_count": 8,
     "metadata": {},
     "output_type": "execute_result"
    }
   ],
   "source": [
    "nodes.head(3)"
   ]
  },
  {
   "cell_type": "markdown",
   "metadata": {},
   "source": [
    "Routes between stations are contained in `arcs` dataframe--the first column is the origin node, the second one is the destination node, and the third one is the length of the arc in meters. "
   ]
  },
  {
   "cell_type": "code",
   "execution_count": 9,
   "metadata": {},
   "outputs": [
    {
     "data": {
      "text/html": [
       "<div>\n",
       "<style scoped>\n",
       "    .dataframe tbody tr th:only-of-type {\n",
       "        vertical-align: middle;\n",
       "    }\n",
       "\n",
       "    .dataframe tbody tr th {\n",
       "        vertical-align: top;\n",
       "    }\n",
       "\n",
       "    .dataframe thead th {\n",
       "        text-align: right;\n",
       "    }\n",
       "</style>\n",
       "<table border=\"1\" class=\"dataframe\">\n",
       "  <thead>\n",
       "    <tr style=\"text-align: right;\">\n",
       "      <th></th>\n",
       "      <th>from_stop_nb</th>\n",
       "      <th>to_stop_nb</th>\n",
       "      <th>dis_line</th>\n",
       "      <th>min_time_elapsed</th>\n",
       "      <th>from_stop_id</th>\n",
       "      <th>to_stop_id</th>\n",
       "      <th>route_id</th>\n",
       "    </tr>\n",
       "  </thead>\n",
       "  <tbody>\n",
       "    <tr>\n",
       "      <th>0</th>\n",
       "      <td>185</td>\n",
       "      <td>10</td>\n",
       "      <td>15000.0</td>\n",
       "      <td>0.18</td>\n",
       "      <td>A09</td>\n",
       "      <td>112</td>\n",
       "      <td>NaN</td>\n",
       "    </tr>\n",
       "    <tr>\n",
       "      <th>1</th>\n",
       "      <td>198</td>\n",
       "      <td>23</td>\n",
       "      <td>15000.0</td>\n",
       "      <td>0.18</td>\n",
       "      <td>A24</td>\n",
       "      <td>125</td>\n",
       "      <td>NaN</td>\n",
       "    </tr>\n",
       "    <tr>\n",
       "      <th>2</th>\n",
       "      <td>448</td>\n",
       "      <td>25</td>\n",
       "      <td>15000.0</td>\n",
       "      <td>0.18</td>\n",
       "      <td>R16</td>\n",
       "      <td>127</td>\n",
       "      <td>NaN</td>\n",
       "    </tr>\n",
       "  </tbody>\n",
       "</table>\n",
       "</div>"
      ],
      "text/plain": [
       "   from_stop_nb  to_stop_nb  dis_line  min_time_elapsed from_stop_id  \\\n",
       "0           185          10   15000.0              0.18          A09   \n",
       "1           198          23   15000.0              0.18          A24   \n",
       "2           448          25   15000.0              0.18          R16   \n",
       "\n",
       "  to_stop_id route_id  \n",
       "0        112      NaN  \n",
       "1        125      NaN  \n",
       "2        127      NaN  "
      ]
     },
     "execution_count": 9,
     "metadata": {},
     "output_type": "execute_result"
    }
   ],
   "source": [
    "arcs.head(3)"
   ]
  },
  {
   "cell_type": "markdown",
   "metadata": {},
   "source": [
    "## Paris streets\n",
    "\n",
    "Next, we gather data on the network of the Paris streets. To to this, we use the `osmnx` package to retrieve data from [OpenStreetMap](https://www.openstreetmap.org/). Doing this is as simple as specifying an address, and calling the `graph_from_address` function, specifying the desired distance (in meters) around this address. "
   ]
  },
  {
   "cell_type": "code",
   "execution_count": 10,
   "metadata": {},
   "outputs": [
    {
     "ename": "NameError",
     "evalue": "name 'ox' is not defined",
     "output_type": "error",
     "traceback": [
      "\u001b[1;31m---------------------------------------------------------------------------\u001b[0m",
      "\u001b[1;31mNameError\u001b[0m                                 Traceback (most recent call last)",
      "\u001b[1;32m<ipython-input-10-bb7444da033f>\u001b[0m in \u001b[0;36m<module>\u001b[1;34m\u001b[0m\n\u001b[0;32m      1\u001b[0m \u001b[0mnyu_address\u001b[0m\u001b[1;33m=\u001b[0m\u001b[1;34m'57 boulevard Saint-Germain, 75005 Paris, France'\u001b[0m\u001b[1;33m\u001b[0m\u001b[1;33m\u001b[0m\u001b[0m\n\u001b[1;32m----> 2\u001b[1;33m \u001b[0mstreets_network\u001b[0m \u001b[1;33m=\u001b[0m \u001b[0mox\u001b[0m\u001b[1;33m.\u001b[0m\u001b[0mgraph\u001b[0m\u001b[1;33m.\u001b[0m\u001b[0mgraph_from_address\u001b[0m\u001b[1;33m(\u001b[0m\u001b[0mnyu_address\u001b[0m\u001b[1;33m,\u001b[0m \u001b[0mdist\u001b[0m\u001b[1;33m=\u001b[0m\u001b[1;36m2000\u001b[0m\u001b[1;33m,\u001b[0m\u001b[0mnetwork_type\u001b[0m \u001b[1;33m=\u001b[0m \u001b[1;34m'walk'\u001b[0m\u001b[1;33m)\u001b[0m\u001b[1;33m\u001b[0m\u001b[1;33m\u001b[0m\u001b[0m\n\u001b[0m\u001b[0;32m      3\u001b[0m \u001b[0mox\u001b[0m\u001b[1;33m.\u001b[0m\u001b[0mplot_graph\u001b[0m\u001b[1;33m(\u001b[0m\u001b[0mox\u001b[0m\u001b[1;33m.\u001b[0m\u001b[0mproject_graph\u001b[0m\u001b[1;33m(\u001b[0m\u001b[0mstreets_network\u001b[0m\u001b[1;33m)\u001b[0m\u001b[1;33m)\u001b[0m\u001b[1;33m\u001b[0m\u001b[1;33m\u001b[0m\u001b[0m\n",
      "\u001b[1;31mNameError\u001b[0m: name 'ox' is not defined"
     ]
    }
   ],
   "source": [
    "nyu_address='57 boulevard Saint-Germain, 75005 Paris, France'\n",
    "streets_networkn = ox.graph.graph_from_address(nyu_address, dist=2000,network_type = 'walk')\n",
    "ox.plot_graph(ox.project_graph(streets_networkn))"
   ]
  },
  {
   "cell_type": "markdown",
   "metadata": {},
   "source": [
    "This network is, however, too big for our trial version of Gurobi. We will therefore Zoom in on the area we will use later: The 7th Arrondissement."
   ]
  },
  {
   "cell_type": "code",
   "execution_count": null,
   "metadata": {},
   "outputs": [],
   "source": [
    "address='Rue Lobineau, 75007, Paris, France'\n",
    "streets_network = ox.graph.graph_from_address(address, dist=600,network_type = 'walk')\n",
    "ox.plot_graph(ox.project_graph(streets_network))"
   ]
  },
  {
   "cell_type": "markdown",
   "metadata": {},
   "source": [
    "As we see, the essential information we can extract from the graph is the list of nodes (`nodes_roads` below) and the list of arcs (`arcs_roads` below)."
   ]
  },
  {
   "cell_type": "code",
   "execution_count": 11,
   "metadata": {},
   "outputs": [
    {
     "ename": "NameError",
     "evalue": "name 'streets_network' is not defined",
     "output_type": "error",
     "traceback": [
      "\u001b[1;31m---------------------------------------------------------------------------\u001b[0m",
      "\u001b[1;31mNameError\u001b[0m                                 Traceback (most recent call last)",
      "\u001b[1;32m<ipython-input-11-2516acfddf61>\u001b[0m in \u001b[0;36m<module>\u001b[1;34m\u001b[0m\n\u001b[1;32m----> 1\u001b[1;33m \u001b[0marcslist\u001b[0m \u001b[1;33m=\u001b[0m \u001b[1;33m[\u001b[0m\u001b[1;33m(\u001b[0m\u001b[0mi\u001b[0m\u001b[1;33m,\u001b[0m\u001b[0mj\u001b[0m\u001b[1;33m)\u001b[0m \u001b[1;32mfor\u001b[0m \u001b[1;33m(\u001b[0m\u001b[0mi\u001b[0m\u001b[1;33m,\u001b[0m\u001b[0mj\u001b[0m\u001b[1;33m,\u001b[0m\u001b[0mk\u001b[0m\u001b[1;33m)\u001b[0m \u001b[1;32min\u001b[0m \u001b[0mlist\u001b[0m\u001b[1;33m(\u001b[0m\u001b[0mstreets_network\u001b[0m\u001b[1;33m.\u001b[0m\u001b[0medges\u001b[0m\u001b[1;33m)\u001b[0m\u001b[1;33m]\u001b[0m\u001b[1;33m\u001b[0m\u001b[1;33m\u001b[0m\u001b[0m\n\u001b[0m\u001b[0;32m      2\u001b[0m \u001b[0mcostslist\u001b[0m \u001b[1;33m=\u001b[0m \u001b[1;33m[\u001b[0m\u001b[0mstreets_network\u001b[0m\u001b[1;33m[\u001b[0m\u001b[0mi\u001b[0m\u001b[1;33m]\u001b[0m\u001b[1;33m[\u001b[0m\u001b[0mj\u001b[0m\u001b[1;33m]\u001b[0m\u001b[1;33m[\u001b[0m\u001b[1;36m0\u001b[0m\u001b[1;33m]\u001b[0m\u001b[1;33m[\u001b[0m\u001b[1;34m\"length\"\u001b[0m\u001b[1;33m]\u001b[0m \u001b[1;32mfor\u001b[0m \u001b[0mi\u001b[0m\u001b[1;33m,\u001b[0m\u001b[0mj\u001b[0m \u001b[1;32min\u001b[0m \u001b[0marcslist\u001b[0m \u001b[1;33m]\u001b[0m\u001b[1;33m\u001b[0m\u001b[1;33m\u001b[0m\u001b[0m\n\u001b[0;32m      3\u001b[0m \u001b[0mstreets_pb\u001b[0m \u001b[1;33m=\u001b[0m \u001b[0mnetwork_problem\u001b[0m\u001b[1;33m(\u001b[0m\u001b[0mlist\u001b[0m\u001b[1;33m(\u001b[0m\u001b[0mstreets_network\u001b[0m\u001b[1;33m.\u001b[0m\u001b[0mnodes\u001b[0m\u001b[1;33m)\u001b[0m\u001b[1;33m,\u001b[0m\u001b[0marcslist\u001b[0m\u001b[1;33m,\u001b[0m\u001b[0mcostslist\u001b[0m\u001b[1;33m)\u001b[0m\u001b[1;33m\u001b[0m\u001b[1;33m\u001b[0m\u001b[0m\n",
      "\u001b[1;31mNameError\u001b[0m: name 'streets_network' is not defined"
     ]
    }
   ],
   "source": [
    "arcslist = [(i,j) for (i,j,k) in list(streets_network.edges)]\n",
    "costslist = [streets_network[i][j][0][\"length\"] for i,j in arcslist ]\n",
    "streets_pb = network_problem(list(streets_network.nodes),arcslist,costslist) "
   ]
  },
  {
   "cell_type": "markdown",
   "metadata": {},
   "source": [
    "Now that we have the structure of the data in mind, let's develop the conceptual tools we shall need in our analysis."
   ]
  },
  {
   "cell_type": "markdown",
   "metadata": {},
   "source": [
    "## Topology of networks\n",
    "\n",
    "### Directed graph\n",
    "\n",
    "We start by defining the directed graph on which transportation takes place.\n",
    "\n",
    "---\n",
    "**Definition**\n",
    "\n",
    "A (directed) *graph* $\\left(\\mathcal{Z},\\mathcal{A}\\right)$ is a set of *nodes* (cities) $\\mathcal{Z}$, along with a set of *arcs* $\\mathcal{A}\\subseteq\\mathcal{Z}^{2}$ which are pairs $\\left(x,y\\right)$ where $x\\neq y\\in\\mathcal{Z}$.\n",
    "\n",
    "---\n",
    "Our definition does not allow for an arc to have the same origin and destination. Note that for a dense network, $\\left\\vert \\mathcal{A} \\right\\vert = \\left\\vert \\mathcal{Z}\\right\\vert\\left( \\left\\vert \\mathcal{Z}\\right\\vert - 1 \\right)$. For a line, $\\left\\vert \\mathcal{A}\\right\\vert =\\left\\vert \\mathcal{Z}\\right\\vert -1$."
   ]
  },
  {
   "cell_type": "markdown",
   "metadata": {},
   "source": [
    "**Stylized example**. Take the following example, which we shall use for exposition purposes:"
   ]
  },
  {
   "cell_type": "code",
   "execution_count": 12,
   "metadata": {},
   "outputs": [
    {
     "name": "stdout",
     "output_type": "stream",
     "text": [
      "Number of nodes=4; number of arcs=5.\n"
     ]
    },
    {
     "name": "stderr",
     "output_type": "stream",
     "text": [
      "C:\\Users\\antoi\\Anaconda3\\lib\\site-packages\\networkx\\drawing\\nx_pylab.py:579: MatplotlibDeprecationWarning: \n",
      "The iterable function was deprecated in Matplotlib 3.1 and will be removed in 3.3. Use np.iterable instead.\n",
      "  if not cb.iterable(width):\n",
      "C:\\Users\\antoi\\Anaconda3\\lib\\site-packages\\networkx\\drawing\\nx_pylab.py:676: MatplotlibDeprecationWarning: \n",
      "The iterable function was deprecated in Matplotlib 3.1 and will be removed in 3.3. Use np.iterable instead.\n",
      "  if cb.iterable(node_size):  # many node sizes\n"
     ]
    },
    {
     "data": {
      "image/png": "[encoded data removed]",
      "text/plain": [
       "<Figure size 432x288 with 1 Axes>"
      ]
     },
     "metadata": {},
     "output_type": "display_data"
    }
   ],
   "source": [
    "example_graph = nx.DiGraph()\n",
    "arcslist = [('s','u'),('u','v'),('s','v'),('u','t'),('v','t')]\n",
    "costslist = [3,1,4,2,2]\n",
    "example_graph.add_edges_from(arcslist)\n",
    "\n",
    "example_pb = network_problem(list(example_graph.nodes),arcslist,costslist) \n",
    "\n",
    "pos = {'s':np.array([0,0]),'u':np.array([1,0.5]),'v':np.array([2,0]),'t':np.array([3,0])} \n",
    "nx.draw_networkx_edge_labels(example_graph,pos,edge_labels={e:('c='+str(l)) for (e,l) in zip(arcslist,costslist)},font_color='red')\n",
    "nx.draw(example_graph,pos,with_labels=True)\n",
    "plt.show()"
   ]
  },
  {
   "cell_type": "markdown",
   "metadata": {},
   "source": [
    "### Gradient matrix\n",
    "\n",
    "Next, we define the gradient matrix, which encodes the information contained in the directed graph.\n",
    "\n",
    "---\n",
    "**Definition**\n",
    "<a name=\"grad_mat\"></a>\n",
    "\n",
    "We define the *gradient matrix* (also called an `edge-node matrix') as the matrix with general term $\\nabla_{ax}$, $a\\in\\mathcal{A}$, $x\\in \\mathcal{Z}$, such that\n",
    "\n",
    "\\begin{align*}\n",
    "\\nabla_{ax}  &  =-1\\text{ if }a\\text{ is out of }x\\text{,}\\\\\n",
    "&  =+1\\text{ if }a\\text{ is into }x\\text{,}\\\\\n",
    "&  =0\\text{ else.}\n",
    "\\end{align*}\n",
    "\n",
    "---\n",
    "\n",
    "Hence, if $f\\in\\mathbb{R}^{\\mathcal{Z}}$, then $\\nabla f\\in\\mathbb{R}^{\\mathcal{Z}}$, and $\\left(  \\nabla f\\right)  _{xy}=f_{y}-f_{x}$.\n",
    "\n",
    "We shall denote $\\nabla^{\\intercal}$ the transpose of the gradient matrix. It is the network analog of the $-\\operatorname{div}$ differential operator.\n"
   ]
  },
  {
   "cell_type": "markdown",
   "metadata": {},
   "source": [
    "From the list of arcs, now we can easily construct our $\\nabla$ matrix, as the first component of each element of `arcs` is the origin node (which will have $-1$ entry in $\\nabla$) and the second component is the destination nodes (which will have $+1$ entry). \n",
    "An important feature of the matrix $\\nabla$ is *sparsity*: for each row (arcs), there are only two nonzero terms. We should recognize this sparse structure and code $\\nabla$ as a sparse matrix. In `scipy`, this is done using `csr_matrix`. \n",
    "We implement this as follows:"
   ]
  },
  {
   "cell_type": "code",
   "execution_count": 13,
   "metadata": {},
   "outputs": [],
   "source": [
    "def Nabla(self):\n",
    "    data = np.concatenate([-np.ones(self.nbArcs),np.ones(self.nbArcs)])\n",
    "    arcsIndices = list(range(self.nbArcs))\n",
    "    arcsOrigins = [self.nodesDict[o] for o,d in self.arcsList]\n",
    "    arcsDestinations = [self.nodesDict[d] for o,d in self.arcsList]\n",
    "    theNabla = sp.csr_matrix((data, (arcsIndices+arcsIndices, arcsOrigins+arcsDestinations)), shape = (self.nbArcs,self.nbNodes))\n",
    "    return(theNabla)\n",
    "\n",
    "network_problem.Nabla = Nabla"
   ]
  },
  {
   "cell_type": "markdown",
   "metadata": {},
   "source": [
    "If we want to visualize, we need to convert it to a `np.array` matrix using the `.toarray()` method. \n",
    "\n",
    "**Stylized example**. In the case of our example, the matrix looks like the following:"
   ]
  },
  {
   "cell_type": "code",
   "execution_count": 14,
   "metadata": {},
   "outputs": [
    {
     "data": {
      "text/plain": [
       "array([[-1.,  1.,  0.,  0.],\n",
       "       [ 0., -1.,  1.,  0.],\n",
       "       [-1.,  0.,  1.,  0.],\n",
       "       [ 0., -1.,  0.,  1.],\n",
       "       [ 0.,  0., -1.,  1.]])"
      ]
     },
     "execution_count": 14,
     "metadata": {},
     "output_type": "execute_result"
    }
   ],
   "source": [
    "example_pb.Nabla().toarray()"
   ]
  },
  {
   "cell_type": "markdown",
   "metadata": {},
   "source": [
    "Take the first line in the example above, for instance, which is associated with the `uv` arc. It has a $-1$ entry on the first column entry (indicating leaving the node `u`), and a $+1$ entry on the second column entry (indicating entering the node `v`)."
   ]
  },
  {
   "cell_type": "markdown",
   "metadata": {},
   "source": [
    "### Paths and loops\n",
    "\n",
    "Next, we define the terms *paths* and *loops*.\n",
    "\n",
    "---\n",
    "**Definition**\n",
    "\n",
    "Given two nodes $x$ and $y$, a *path* from $x$ to $y$ is a sequence $z_{1},z_{2},...,z_{K}$ in $\\mathcal{Z}$ where $z_{1}=x$, $z_{K}=y$, and for every $1\\leq k\\leq K-1$, $\\left(  z_{k},z_{k+1}\\right)  \\in\\mathcal{A}$.\n",
    "\n",
    "\n",
    "A *loop* (also called `cycle') is a path from a node $x$ to itself.\n",
    "\n",
    "---\n",
    "\n",
    "**Stylized example**. In our stylized example, `(s,u,v,t)` is a path, but `(s,v,u,t)` is not a path."
   ]
  },
  {
   "cell_type": "markdown",
   "metadata": {},
   "source": [
    "### Transportation costs\n",
    "\n",
    "A vector $c\\in\\mathbb{R}^{\\mathcal{A}}$ defines transportation costs. That is, for $xy\\in\\mathcal{A}$, $c_{xy}$ is the transportation cost associated to arc $xy$. $c$ can also be thought of as the length of arc $xy$. The cost of moving the good from node $x$ to node $y$ along path $z_{1},z_{2},...,z_{K}$ is\n",
    "\n",
    "\\begin{align*}\n",
    "\\sum_{k=1}^{K-1}c_{z_{k}z_{k+1}}.\n",
    "\\end{align*}"
   ]
  },
  {
   "cell_type": "markdown",
   "metadata": {},
   "source": [
    "## Assumptions about the network\n",
    "\n",
    "We shall introduce a number of natural assumptions about the network."
   ]
  },
  {
   "cell_type": "markdown",
   "metadata": {},
   "source": [
    "### No profitable loop\n",
    "---\n",
    "**Assumption** [No profitable loop]\n",
    "<a name=\"noprofitloop\"></a>\n",
    "\n",
    "There is no profitable loop, which means that there is no sequence $z_{1},...,z_{K}$ in $\\mathcal{Z}$ such that $z_{K}=z_{1}$, $\\left(  z_{k},z_{k+1}\\right)  \\in\\mathcal{A}$, and $\\sum_{k=1}^{K-1}c_{z_{k}z_{k+1}}<0$.\n",
    "\n",
    "---\n",
    "\n",
    "In particular, there is no profitable loop if $c\\geq0$."
   ]
  },
  {
   "cell_type": "markdown",
   "metadata": {},
   "source": [
    "### Balancedness\n",
    "Let $q_{z}$ be the *net demand* at node $z \\in \\mathcal{Z}$, which is the quantity of goods disappearing from the graph. The set of nodes defined by\n",
    "\n",
    "\\begin{align*}\n",
    "\\mathcal{Z}_{0}=\\left\\{  x\\in\\mathcal{Z}:q_{x}<0\\right\\}  \\text{, and }\\mathcal{Z}_{1}=\\left\\{  y\\in\\mathcal{Z}:q_{y}>0\\right\\}\n",
    "\\end{align*}\n",
    "\n",
    "are called the *supply nodes* and *demand nodes* respectively. A node which is neither a supply node, neither a demand node is called a *transit node*.\n",
    "\n",
    "Total supply is $-\\sum_{x\\in\\mathcal{Z}_{0}}q_{x}$, total demand is $\\sum_{y\\in\\mathcal{Z}_{1}}q_{y}$.\n",
    "\n",
    "---\n",
    "**Assumption** [Balancedness] \n",
    "<a name=\"balancedness\"></a>\n",
    "\n",
    "Assume that total supply equals total demand on the network, that is\n",
    "\n",
    "\\begin{align*}\n",
    "\\sum_{x\\in\\mathcal{Z}_{0}}q_{x}+\\sum_{y\\in\\mathcal{Z}_{1}}q_{y}=0.\n",
    "\\end{align*}\n",
    "\n",
    "---"
   ]
  },
  {
   "cell_type": "markdown",
   "metadata": {},
   "source": [
    "### Connectedness\n",
    "\n",
    "---\n",
    "**Assumption** [Connectedness]\n",
    "<a name=\"connectedness\"></a>\n",
    "\n",
    "Assume the set of supply nodes $\\mathcal{Z}_{0}$ is *strongly connected* to the set of demand nodes $\\mathcal{Z}_{1}$, i.e. for every $x\\in\\mathcal{Z}_{0}$ and $y\\in \\mathcal{Z}_{1}$, there is a path from $x$ to $y$.\n",
    "\n",
    "---\n"
   ]
  },
  {
   "cell_type": "markdown",
   "metadata": {},
   "source": [
    "### Regular networks\n",
    "\n",
    "The specification of the graph, the net demand vector, and the surplus vector\n",
    "defines a network.\n",
    "\n",
    "---\n",
    "**Definition**\n",
    "\n",
    "A directed graph $\\left(\\mathcal{Z},\\mathcal{A}\\right)$ endowed with a net demand vector $\\left(n_{z}\\right)_{z \\in \\mathcal{Z}}$ and a cost vector $\\left(c_{a}\\right)_{a\\in\\mathcal{A}}$ is called a *network* $\\left(\\mathcal{Z}, \\mathcal{A}, q, c\\right)$. If the three assumptions above: [no profitable loop](#noprofitloop), [balancedness](#balancedness) and [connectedness](#connectedness) all hold, the network is called *regular*.\n",
    "\n",
    "---\n",
    "\n",
    "Without mention of the contrary we shall assume that the network under consideration is regular.\n"
   ]
  },
  {
   "cell_type": "markdown",
   "metadata": {},
   "source": [
    "### Flows and feasible flows\n",
    "\n",
    "A *flow* is a vector $\\mu$ on $\\mathbb{R}_+^{\\mathcal{A}}$, where $\\mu_a$ is the quantity of mass passing through arc $a$.\n",
    "\n",
    "The flow of mass disappearing at $z$ equals the flow arriving from other nodes minus the flow shipping to other nodes\n",
    "\n",
    "\\begin{align*}\n",
    "q_{z}=\\sum_{x:xz \\in\\mathcal{A}}\\mu_{xz}-\\sum_{y:zy \\in\\mathcal{A}}\\mu_{zy}\n",
    "\\end{align*}\n",
    "\n",
    "and this equation can be rewritten as $\\nabla^{\\intercal}\\mu=n$. This motivates the following definition:\n",
    "\n",
    "---\n",
    "**Definition**\n",
    "\n",
    "The set of feasible flows associated with $q$, denoted $\\mathcal{M}\\left(  q\\right)$, or $\\mathcal{M}$ when there is no ambiguity, is defined as the set of flows $\\mu\\geq0$ that verify conservation equation\n",
    "\n",
    "\\begin{align*}\n",
    "    \\nabla^{\\intercal}\\mu=q.\n",
    "\\end{align*}\n",
    "\n",
    "---\n"
   ]
  },
  {
   "cell_type": "markdown",
   "metadata": {},
   "source": [
    "**Stylized example**. In our stylized example, the flow of mass $\\mu$ associated with arc `(s,u,v,t)` has one unit of mass on arcs `su`,`uv`, and `vt`. Hence,  $\\nabla ^\\top \\mu$ is: "
   ]
  },
  {
   "cell_type": "code",
   "execution_count": 15,
   "metadata": {
    "scrolled": true
   },
   "outputs": [
    {
     "data": {
      "text/plain": [
       "array([[-1.,  0.,  0.,  1.]])"
      ]
     },
     "execution_count": 15,
     "metadata": {},
     "output_type": "execute_result"
    }
   ],
   "source": [
    "# example_pb.arcsList\n",
    "# example_pb.nodesList\n",
    "mu = np.array([1,1,0,0,1])\n",
    "(example_pb.Nabla().transpose() * mu.reshape(-1,1)).reshape(1,-1)"
   ]
  },
  {
   "cell_type": "markdown",
   "metadata": {},
   "source": [
    "We see that the vector of exiting flows $\\nabla ^\\top \\mu$ is equal to $-1$ on arc `s`, equal to $1$ on arc `t`, and equal to zero elsewhere. Mass ''appears'' at the start of the path `s`, ''disappears'' at the end of the path `t`, and is conserved along the path and elsewhere in the network.  \n",
    "\n",
    "Conversely, if $q_z = 1\\{z=t\\} - 1\\{z=s\\}$, and for $\\mu\\in\\mathcal{M}(q)$, one may find a path from `s` to `t` along the support of $\\mu$, by the following simple algorithm, which consists of looking for an arc in the support of $\\mu$ originating at the current node, replacing the current node by the destination of the arc, and deleting the arc. It is easy to see that this algorithm will get from `s` to `t` in a finite number of steps. We implement it below: "
   ]
  },
  {
   "cell_type": "code",
   "execution_count": 16,
   "metadata": {},
   "outputs": [],
   "source": [
    "def pathfinder(self,mu,sind,tind):\n",
    "    # assume mu is such that $\\Nabla^\\top \\mu =1 on t, =-1 on s, and =0 elsewhere\n",
    "    t = self.nodesList[tind]\n",
    "    arcs_active = [(x,y) for (x,y) in self.arcsList if (mu[self.arcsDict[(x,y)]] > 0) ]\n",
    "    current = self.nodesList[sind]\n",
    "    path = [current]\n",
    "    while current != t:\n",
    "        (x,y) = next((x,y) for (x,y) in arcs_active if x==current)\n",
    "        path.append(y)\n",
    "        current = y\n",
    "        arcs_active.remove((x,y))\n",
    "    return(path)\n",
    "    \n",
    "\n",
    "network_problem.pathfinder = pathfinder"
   ]
  },
  {
   "cell_type": "markdown",
   "metadata": {},
   "source": [
    "**Stylized example**. We run this in our stylized example, to determine a path associated with `mu = np.array([1,1,0,0,1])` from `s`to `t`. We get:"
   ]
  },
  {
   "cell_type": "code",
   "execution_count": 17,
   "metadata": {},
   "outputs": [
    {
     "data": {
      "text/plain": [
       "['s', 'u', 'v', 't']"
      ]
     },
     "execution_count": 17,
     "metadata": {},
     "output_type": "execute_result"
    }
   ],
   "source": [
    "example_pb.pathfinder(mu,0,3)"
   ]
  },
  {
   "cell_type": "markdown",
   "metadata": {},
   "source": [
    "## The min-cost flow problem\n",
    "\n",
    "Let $p_{z}$ be the price of the commodity at $z$. Consider the strategy which consists in purchasing the good at $x$, shipping to $y$, and selling at $y$. The profit of this strategy is\n",
    "\n",
    "\\begin{align*}\n",
    "p_{y}-p_{x}-c_{xy}=\\left(  \\nabla p-c\\right)_{xy}\n",
    "\\end{align*}\n",
    "\n",
    "and hence there is no arbitrage opportunity if $p_{y}-p_{x}-c_{xy}\\leq0$ for every arc $xy$, that is\n",
    "\n",
    "\\begin{align*}\n",
    "\\nabla p\\leq c.\n",
    "\\end{align*}\n",
    "\n",
    "Consider the *minimum cost flow problem*\n",
    "<a name=\"primal\"></a>\n",
    "\\begin{align*}\n",
    "&  \\min_{\\mu\\geq0}\\sum_{\\left(  x,y\\right)  \\in\\mathcal{A}}\\mu_{xy}%\n",
    "c_{xy} \\\\\n",
    "&  s.t.~\\nabla^{\\intercal}\\mu=q\n",
    "\\end{align*}\n",
    "\n",
    "which is a linear programming problem whose dual is\n",
    "<a name=\"dual\"></a>\n",
    "\\begin{align*}\n",
    "&  \\max_{p\\in\\mathbb{R}^{\\mathcal{Z}}}\\sum_{z\\in\\mathcal{Z}}p\n",
    "_{z} q_{z}\\\\\n",
    "&  s.t.~\\nabla p\\leq c.\n",
    "\\end{align*}\n"
   ]
  },
  {
   "cell_type": "markdown",
   "metadata": {},
   "source": [
    "## Min-cost flow duality\n",
    "\n",
    "---\n",
    "**Proposition**\n",
    "1. Under Assumption [No profitable loop](#noprofitloop), the [dual problem](#dual) is feasible, which means that there is a vector $p\\in\\mathbb{R}^{\\mathcal{Z}}$ such that $\\nabla p\\leq c$; and the value of [primal problem](#primal) is strictly less than $+\\infty$.\n",
    "\n",
    "2. Under Assumptions [balancedness](#balandedness) and [connectedness](#connectedness), the [primal problem](#primal) is feasible, which means that there is a flow $\\mu\\geq0$ such that $\\nabla^{\\intercal}\\mu=q$; and the value of [dual problem](#dual) is strictly greater than $-\\infty$.\n",
    "\n",
    "---\n",
    "\n",
    "Assume that $\\left(\\mathcal{Z},\\mathcal{A},q,c\\right)$ is a regular network. Then the value of the [primal problem](#primal) coincides with the value of its [dual](#dual), and both problems have solutions. Further, if $\\mu$ is a solution to the primal and $p$ is a solution to the dual, then $\\mu_{xy}>0$ implies $p_{y}-p_{x}=c_{xy}$."
   ]
  },
  {
   "cell_type": "code",
   "execution_count": 18,
   "metadata": {},
   "outputs": [],
   "source": [
    "def mincostflow(self,q):\n",
    "    Nabla = self.Nabla()\n",
    "    m=grb.Model()\n",
    "    p = m.addMVar(shape=self.nbNodes, name=\"p\", lb = float('-inf'))\n",
    "    m.setObjective(q @ p, grb.GRB.MAXIMIZE)\n",
    "    m.addConstr( Nabla @ p <= np.array(self.costsList), name=\"Constr\")\n",
    "    m.optimize()\n",
    "    if m.status == grb.GRB.Status.OPTIMAL:\n",
    "        p_z = m.getAttr('x')\n",
    "        mu_a = m.getAttr('pi')\n",
    "    return np.array((p_z,mu_a),dtype=object)\n",
    "\n",
    "network_problem.mincostflow = mincostflow"
   ]
  },
  {
   "cell_type": "markdown",
   "metadata": {},
   "source": [
    "# Special cases\n",
    "\n",
    "## Shortest path problem\n",
    "\n",
    "Assume there is only one source node $s \\in \\mathcal{Z}$ and one target node $t\\in\\mathcal{Z}$, each associated with unit flow. That is, $q_{z}=1\\left\\{  z=t\\right\\}  -1\\left\\{  z=s\\right\\}$. Then the problem boils down to how to push one unit of mass from $s$ to $t$. If we interpret $c_{xy}$ as the distance along arc $xy$, the solution of this problem corresponds to the shortest path from $s$ to $t$. This is why this problem is called shortest path problem. (More generally, this problem extends to the case when $c$ does not have a negative loop).\n",
    "\n",
    "The dual problem is then\n",
    "\n",
    "\\begin{align*}\n",
    "\\max_{p}  &  ~p_{t}-p_{s}\\\\\n",
    "s.t.  &  ~p_{y}-p_{x}\\leq c_{xy}~\\forall xy\\in\\mathcal{A}\n",
    "\\end{align*}\n",
    "\n",
    "and we can impose normalization $p_{s}=0$, so that along the travelled path, $p_{z}$ interprets as the distance travelled thus far."
   ]
  },
  {
   "cell_type": "markdown",
   "metadata": {},
   "source": [
    "**Stylized example**. We run the min-cost flow problem in its ''shortest path'' version on our stylized example, with origin at node `s` and destination at node `t`."
   ]
  },
  {
   "cell_type": "code",
   "execution_count": 19,
   "metadata": {
    "scrolled": false
   },
   "outputs": [
    {
     "name": "stdout",
     "output_type": "stream",
     "text": [
      "Academic license - for non-commercial use only - expires 2022-11-14\n",
      "Using license file c:\\gurobi911\\gurobi.lic\n",
      "Gurobi Optimizer version 9.1.1 build v9.1.1rc0 (win64)\n",
      "Thread count: 6 physical cores, 12 logical processors, using up to 12 threads\n",
      "Optimize a model with 5 rows, 4 columns and 10 nonzeros\n",
      "Model fingerprint: 0x930d4ce3\n",
      "Coefficient statistics:\n",
      "  Matrix range     [1e+00, 1e+00]\n",
      "  Objective range  [1e+00, 1e+00]\n",
      "  Bounds range     [0e+00, 0e+00]\n",
      "  RHS range        [1e+00, 4e+00]\n",
      "Presolve removed 5 rows and 4 columns\n",
      "Presolve time: 0.00s\n",
      "Presolve: All rows and columns removed\n",
      "Iteration    Objective       Primal Inf.    Dual Inf.      Time\n",
      "       0    5.0000000e+00   0.000000e+00   2.000000e-06      0s\n",
      "\n",
      "Solved in 0 iterations and 0.01 seconds\n",
      "Optimal objective  5.000000000e+00\n",
      "\n",
      "p_z=[-3.0, 0.0, 0.0, 2.0], and \n",
      "μ_a =[1.0, 0.0, 0.0, 1.0, -0.0]\n"
     ]
    },
    {
     "data": {
      "text/plain": [
       "['s', 'u', 't']"
      ]
     },
     "execution_count": 19,
     "metadata": {},
     "output_type": "execute_result"
    }
   ],
   "source": [
    "p_z,mu_a = example_pb.mincostflow(np.array([[-1.,  0.,  0.,  1.]]))\n",
    "print('\\np_z='+str(p_z)+', and \\nμ_a ='+str(mu_a) )\n",
    "#example_pb.arcsList\n",
    "example_pb.pathfinder(mu_a,0,3)"
   ]
  },
  {
   "cell_type": "markdown",
   "metadata": {},
   "source": [
    "We see that the shortest path in the sytlized example is `sut`, with a total cost of 5."
   ]
  },
  {
   "cell_type": "markdown",
   "metadata": {},
   "source": [
    "**NYC subway dataset**. We now move on to the subway dataset, where we are trying to find the shortest path NYU to Columbia."
   ]
  },
  {
   "cell_type": "code",
   "execution_count": 20,
   "metadata": {},
   "outputs": [
    {
     "name": "stdout",
     "output_type": "stream",
     "text": [
      "Gurobi Optimizer version 9.1.1 build v9.1.1rc0 (win64)\n",
      "Thread count: 6 physical cores, 12 logical processors, using up to 12 threads\n",
      "Optimize a model with 1290 rows, 501 columns and 2580 nonzeros\n",
      "Model fingerprint: 0x15b26335\n",
      "Coefficient statistics:\n",
      "  Matrix range     [1e+00, 1e+00]\n",
      "  Objective range  [1e+00, 1e+00]\n",
      "  Bounds range     [0e+00, 0e+00]\n",
      "  RHS range        [1e-01, 3e+04]\n",
      "Presolve removed 1131 rows and 309 columns\n",
      "Presolve time: 0.01s\n",
      "Presolved: 159 rows, 350 columns, 782 nonzeros\n",
      "\n",
      "Iteration    Objective       Primal Inf.    Dual Inf.      Time\n",
      "       0      handle free variables                          0s\n",
      "     148    2.3979662e+04   0.000000e+00   0.000000e+00      0s\n",
      "\n",
      "Solved in 148 iterations and 0.01 seconds\n",
      "Optimal objective  2.397966180e+04\n"
     ]
    }
   ],
   "source": [
    "origin_node = subway_pb.nodesDict['8 St - NYU (N/R)'] \n",
    "destination_node = subway_pb.nodesDict['116 St - Columbia University (1)'] \n",
    "q = np.zeros(subway_pb.nbNodes)\n",
    "q[origin_node] = -1\n",
    "q[destination_node] = 1\n",
    "p_z,mu_a = subway_pb.mincostflow(q)"
   ]
  },
  {
   "cell_type": "markdown",
   "metadata": {},
   "source": [
    "One can obtain the path by:"
   ]
  },
  {
   "cell_type": "code",
   "execution_count": 21,
   "metadata": {},
   "outputs": [
    {
     "data": {
      "text/plain": [
       "['8 St - NYU (N/R)',\n",
       " '14 St - Union Sq (N/R/Q)',\n",
       " '34 St - Herald Sq (Q/N)',\n",
       " 'Times Sq - 42 St (R/Q)',\n",
       " 'Times Sq - 42 St (1/3)',\n",
       " '72 St (1/2)',\n",
       " '96 St (2/1/3)',\n",
       " '103 St (1)',\n",
       " 'Cathedral Pkwy (1)',\n",
       " '116 St - Columbia University (1)']"
      ]
     },
     "execution_count": 21,
     "metadata": {},
     "output_type": "execute_result"
    }
   ],
   "source": [
    "subway_pb.pathfinder(mu_a,origin_node,destination_node)"
   ]
  },
  {
   "cell_type": "markdown",
   "metadata": {},
   "source": [
    "**Paris streets dataset**. We shall now look for the shortest path between the centers of NYU Paris and Sciences Po, through the pedestrian network on the Parisian streets. First, let us use `osmnx`'s function `geocode` to convert the addresses into geographic coordinates, and then `get_nearest_node` to find the two nearest nodes on the network."
   ]
  },
  {
   "cell_type": "code",
   "execution_count": 22,
   "metadata": {},
   "outputs": [
    {
     "ename": "NameError",
     "evalue": "name 'ox' is not defined",
     "output_type": "error",
     "traceback": [
      "\u001b[1;31m---------------------------------------------------------------------------\u001b[0m",
      "\u001b[1;31mNameError\u001b[0m                                 Traceback (most recent call last)",
      "\u001b[1;32m<ipython-input-22-2b31400569d5>\u001b[0m in \u001b[0;36m<module>\u001b[1;34m\u001b[0m\n\u001b[1;32m----> 1\u001b[1;33m \u001b[0mnyu_geocode\u001b[0m  \u001b[1;33m=\u001b[0m \u001b[0mox\u001b[0m\u001b[1;33m.\u001b[0m\u001b[0mgeocode\u001b[0m\u001b[1;33m(\u001b[0m\u001b[1;34m'57 boulevard Saint-Germain, 75005 Paris, France'\u001b[0m\u001b[1;33m)\u001b[0m \u001b[1;31m# NYU Paris\u001b[0m\u001b[1;33m\u001b[0m\u001b[1;33m\u001b[0m\u001b[0m\n\u001b[0m\u001b[0;32m      2\u001b[0m \u001b[0mcolumbia_geocode\u001b[0m \u001b[1;33m=\u001b[0m \u001b[0mox\u001b[0m\u001b[1;33m.\u001b[0m\u001b[0mgeocode\u001b[0m\u001b[1;33m(\u001b[0m\u001b[1;34m'4 Rue de Chevreuse, 75006 Paris'\u001b[0m\u001b[1;33m)\u001b[0m \u001b[1;31m# Columbia in Paris\u001b[0m\u001b[1;33m\u001b[0m\u001b[1;33m\u001b[0m\u001b[0m\n\u001b[0;32m      3\u001b[0m \u001b[0morig\u001b[0m \u001b[1;33m=\u001b[0m \u001b[0mstreets_pb\u001b[0m\u001b[1;33m.\u001b[0m\u001b[0mnodesDict\u001b[0m\u001b[1;33m[\u001b[0m\u001b[0mox\u001b[0m\u001b[1;33m.\u001b[0m\u001b[0mget_nearest_node\u001b[0m\u001b[1;33m(\u001b[0m\u001b[0mstreets_network\u001b[0m\u001b[1;33m,\u001b[0m \u001b[0mnyu_geocode\u001b[0m\u001b[1;33m)\u001b[0m\u001b[1;33m]\u001b[0m\u001b[1;33m\u001b[0m\u001b[1;33m\u001b[0m\u001b[0m\n\u001b[0;32m      4\u001b[0m \u001b[0mdest\u001b[0m \u001b[1;33m=\u001b[0m \u001b[0mstreets_pb\u001b[0m\u001b[1;33m.\u001b[0m\u001b[0mnodesDict\u001b[0m\u001b[1;33m[\u001b[0m\u001b[0mox\u001b[0m\u001b[1;33m.\u001b[0m\u001b[0mget_nearest_node\u001b[0m\u001b[1;33m(\u001b[0m\u001b[0mstreets_network\u001b[0m\u001b[1;33m,\u001b[0m \u001b[0mcolumbia_geocode\u001b[0m\u001b[1;33m)\u001b[0m\u001b[1;33m]\u001b[0m\u001b[1;33m\u001b[0m\u001b[1;33m\u001b[0m\u001b[0m\n",
      "\u001b[1;31mNameError\u001b[0m: name 'ox' is not defined"
     ]
    }
   ],
   "source": [
    "nyu_geocode  = ox.geocode('57 boulevard Saint-Germain, 75005 Paris, France') # NYU Paris\n",
    "sciences_po_geocode = ox.geocode('27 rue Saint Guillaume, 75007 Paris') # Columbia in Paris\n",
    "orig = streets_pb.nodesDict[ox.get_nearest_node(streets_network, nyu_geocode)]\n",
    "dest = streets_pb.nodesDict[ox.get_nearest_node(streets_network, sciences_po_geocode)]"
   ]
  },
  {
   "cell_type": "markdown",
   "metadata": {},
   "source": [
    "We determine the minumum cost flow using Gurobi, and obtain the shortest path accordingly:"
   ]
  },
  {
   "cell_type": "code",
   "execution_count": 23,
   "metadata": {},
   "outputs": [
    {
     "ename": "NameError",
     "evalue": "name 'streets_pb' is not defined",
     "output_type": "error",
     "traceback": [
      "\u001b[1;31m---------------------------------------------------------------------------\u001b[0m",
      "\u001b[1;31mNameError\u001b[0m                                 Traceback (most recent call last)",
      "\u001b[1;32m<ipython-input-23-82fe95b601cc>\u001b[0m in \u001b[0;36m<module>\u001b[1;34m\u001b[0m\n\u001b[1;32m----> 1\u001b[1;33m \u001b[0mq\u001b[0m \u001b[1;33m=\u001b[0m \u001b[0mnp\u001b[0m\u001b[1;33m.\u001b[0m\u001b[0mzeros\u001b[0m\u001b[1;33m(\u001b[0m\u001b[0mstreets_pb\u001b[0m\u001b[1;33m.\u001b[0m\u001b[0mnbNodes\u001b[0m\u001b[1;33m)\u001b[0m\u001b[1;33m\u001b[0m\u001b[1;33m\u001b[0m\u001b[0m\n\u001b[0m\u001b[0;32m      2\u001b[0m \u001b[0mq\u001b[0m\u001b[1;33m[\u001b[0m\u001b[0morig\u001b[0m\u001b[1;33m]\u001b[0m \u001b[1;33m=\u001b[0m \u001b[1;33m-\u001b[0m\u001b[1;36m1\u001b[0m\u001b[1;33m\u001b[0m\u001b[1;33m\u001b[0m\u001b[0m\n\u001b[0;32m      3\u001b[0m \u001b[0mq\u001b[0m\u001b[1;33m[\u001b[0m\u001b[0mdest\u001b[0m\u001b[1;33m]\u001b[0m \u001b[1;33m=\u001b[0m \u001b[1;36m1\u001b[0m\u001b[1;33m\u001b[0m\u001b[1;33m\u001b[0m\u001b[0m\n\u001b[0;32m      4\u001b[0m \u001b[0mp_z\u001b[0m\u001b[1;33m,\u001b[0m\u001b[0mmu_a\u001b[0m \u001b[1;33m=\u001b[0m \u001b[0mstreets_pb\u001b[0m\u001b[1;33m.\u001b[0m\u001b[0mmincostflow\u001b[0m\u001b[1;33m(\u001b[0m\u001b[0mq\u001b[0m\u001b[1;33m)\u001b[0m\u001b[1;33m\u001b[0m\u001b[1;33m\u001b[0m\u001b[0m\n\u001b[0;32m      5\u001b[0m \u001b[0mpath\u001b[0m \u001b[1;33m=\u001b[0m \u001b[0mstreets_pb\u001b[0m\u001b[1;33m.\u001b[0m\u001b[0mpathfinder\u001b[0m\u001b[1;33m(\u001b[0m\u001b[0mmu_a\u001b[0m\u001b[1;33m,\u001b[0m\u001b[0morig\u001b[0m\u001b[1;33m,\u001b[0m\u001b[0mdest\u001b[0m\u001b[1;33m)\u001b[0m\u001b[1;33m\u001b[0m\u001b[1;33m\u001b[0m\u001b[0m\n",
      "\u001b[1;31mNameError\u001b[0m: name 'streets_pb' is not defined"
     ]
    }
   ],
   "source": [
    "q = np.zeros(streets_pb.nbNodes)\n",
    "q[orig] = -1\n",
    "q[dest] = 1\n",
    "p_z,mu_a = streets_pb.mincostflow(q)\n",
    "path = streets_pb.pathfinder(mu_a,orig,dest)"
   ]
  },
  {
   "cell_type": "markdown",
   "metadata": {},
   "source": [
    "We can plot the shortest path using `osmnx`'s `plot_graph_route` function."
   ]
  },
  {
   "cell_type": "code",
   "execution_count": 24,
   "metadata": {},
   "outputs": [
    {
     "ename": "NameError",
     "evalue": "name 'ox' is not defined",
     "output_type": "error",
     "traceback": [
      "\u001b[1;31m---------------------------------------------------------------------------\u001b[0m",
      "\u001b[1;31mNameError\u001b[0m                                 Traceback (most recent call last)",
      "\u001b[1;32m<ipython-input-24-ea4cc120d02a>\u001b[0m in \u001b[0;36m<module>\u001b[1;34m\u001b[0m\n\u001b[1;32m----> 1\u001b[1;33m \u001b[0mfig\u001b[0m\u001b[1;33m,\u001b[0m \u001b[0max\u001b[0m \u001b[1;33m=\u001b[0m \u001b[0mox\u001b[0m\u001b[1;33m.\u001b[0m\u001b[0mplot_graph_route\u001b[0m\u001b[1;33m(\u001b[0m\u001b[0mstreets_network\u001b[0m\u001b[1;33m,\u001b[0m \u001b[0mpath\u001b[0m\u001b[1;33m,\u001b[0m \u001b[0mroute_linewidth\u001b[0m\u001b[1;33m=\u001b[0m\u001b[1;36m6\u001b[0m\u001b[1;33m,\u001b[0m \u001b[0mnode_size\u001b[0m\u001b[1;33m=\u001b[0m\u001b[1;36m0\u001b[0m\u001b[1;33m,\u001b[0m \u001b[0mbgcolor\u001b[0m\u001b[1;33m=\u001b[0m\u001b[1;34m'k'\u001b[0m\u001b[1;33m)\u001b[0m\u001b[1;33m\u001b[0m\u001b[1;33m\u001b[0m\u001b[0m\n\u001b[0m",
      "\u001b[1;31mNameError\u001b[0m: name 'ox' is not defined"
     ]
    }
   ],
   "source": [
    "fig, ax = ox.plot_graph_route(streets_network, path, route_linewidth=6, node_size=0, bgcolor='k')"
   ]
  },
  {
   "cell_type": "markdown",
   "metadata": {},
   "source": [
    "### Shortest path via dynamic programming\n",
    "\n",
    "We have advocated for the use of Gurobi as a black box in this problem, but there exists a direct method to find out the minimal cost path, using dynamic programming.\n",
    "\n",
    "The crucial remark here is that if there is a minimal cost path from $s$ to $t$, then there is one of length at most $\\left\\vert \\mathcal{Z}\\right\\vert - 1$.\n",
    "\n",
    "For $z\\in\\mathcal{Z}$, and $t\\in\\mathbb{N}$, let $C_{sz}^{k}$ be the minimal cost of the path from $s$ to $z$ among paths of length at most $k$, with the convention that $C_{sz}^{k}=+\\infty$ if there is no such path. One has:\n",
    "\n",
    "* $C_{ss}^{0}=0$ and $C_{sz}^{0}=+\\infty$ for all $z\\neq s$, and\n",
    "\n",
    "* for $t\\geq1$, $C_{sz}^{k}$ satisfies the Bellman equation:\n",
    "\n",
    "\\begin{align*}\n",
    "C_{sz}^{k}=\\min\\left\\{  C_{sz}^{k},\\min_{x\\in\\mathcal{Z}:sz\\in\\mathcal{A}%\n",
    "}\\left\\{  c_{sx}+C_{xz}^{k-1}\\right\\}  \\right\\}  .\n",
    "\\end{align*}\n",
    "\n",
    "It is easy to see that $C_{st}^{\\left\\vert \\mathcal{Z}\\right\\vert }$ is the minimal cost of any path from $s$ to $t$. Shortest-paths algorithms (Dijikstra and Bellman-Ford) implement this idea.\n",
    "\n",
    "In `networkx`, this is implemented using:"
   ]
  },
  {
   "cell_type": "code",
   "execution_count": 23,
   "metadata": {},
   "outputs": [
    {
     "data": {
      "text/plain": [
       "True"
      ]
     },
     "execution_count": 23,
     "metadata": {},
     "output_type": "execute_result"
    }
   ],
   "source": [
    "path_bis = nx.shortest_path(streets_network,streets_pb.nodesList[orig], streets_pb.nodesList[dest], weight='length')\n",
    "path == path_bis"
   ]
  },
  {
   "cell_type": "markdown",
   "metadata": {},
   "source": [
    "**Exercise**. Translate the above idea into code and recover the shortest path from NYU to Columbia through the NYU subway network."
   ]
  },
  {
   "cell_type": "code",
   "execution_count": 24,
   "metadata": {},
   "outputs": [],
   "source": [
    "# your answer here"
   ]
  },
  {
   "cell_type": "markdown",
   "metadata": {},
   "source": [
    "## Transportation problem\n",
    "\n",
    "Assume the problem is bipartite, that is $\\mathcal{Z}=\\mathcal{X}\\cup\\mathcal{Y}$ and $\\mathcal{A}\\subseteq\\mathcal{X}\\times\\mathcal{Y}$. That is, there are no intermediate nodes, and an arc can only go directly from a source to a target.\n",
    "\n",
    "Note that any min-cost flow problem can be recast in this form, by taking the shortest distance between any source node and any target node.\n",
    "\n",
    "The dual problem is then\n",
    "\n",
    "\\begin{align*}\n",
    "\\max_{p}  &  ~\\sum_{z\\in\\mathcal{Z}}p_{z}q_{z}\\\\\n",
    "s.t.  &  ~p_{y}-p_{x}\\leq c_{xy}~\\forall x\\in\\mathcal{X},y\\in\\mathcal{Y}\n",
    "\\end{align*}\n",
    "\n",
    "which is our first encounter with optimal transport (more on this later in the course)."
   ]
  },
  {
   "cell_type": "markdown",
   "metadata": {},
   "source": [
    "**Soviet planning dataset**. Back to the soviet planning dataset, we can now compute the optimal dispatch of each of the plant."
   ]
  },
  {
   "cell_type": "code",
   "execution_count": 25,
   "metadata": {},
   "outputs": [
    {
     "name": "stdout",
     "output_type": "stream",
     "text": [
      "Gurobi Optimizer version 9.0.0 build v9.0.0rc2 (win64)\n",
      "Optimize a model with 155 rows, 78 columns and 310 nonzeros\n",
      "Model fingerprint: 0x90b94e1d\n",
      "Coefficient statistics:\n",
      "  Matrix range     [1e+00, 1e+00]\n",
      "  Objective range  [5e-01, 3e+02]\n",
      "  Bounds range     [0e+00, 0e+00]\n",
      "  RHS range        [1e+01, 3e+03]\n",
      "Presolve removed 78 rows and 13 columns\n",
      "Presolve time: 0.02s\n",
      "Presolved: 77 rows, 65 columns, 259 nonzeros\n",
      "\n",
      "Iteration    Objective       Primal Inf.    Dual Inf.      Time\n",
      "       0      handle free variables                          0s\n",
      "      52    3.9505200e+05   0.000000e+00   0.000000e+00      0s\n",
      "\n",
      "Solved in 52 iterations and 0.04 seconds\n",
      "Optimal objective  3.950520000e+05\n"
     ]
    }
   ],
   "source": [
    "q = np.concatenate((-soviet_df.iloc[68,1:-1],soviet_df.iloc[0:-1,11]))\n",
    "p_z,mu_a = soviet_pb.mincostflow(q)"
   ]
  }
 ],
 "metadata": {
  "kernelspec": {
   "display_name": "Python 3",
   "language": "python",
   "name": "python3"
  },
  "language_info": {
   "codemirror_mode": {
    "name": "ipython",
    "version": 3
   },
   "file_extension": ".py",
   "mimetype": "text/x-python",
   "name": "python",
   "nbconvert_exporter": "python",
   "pygments_lexer": "ipython3",
   "version": "3.7.4"
  }
 },
 "nbformat": 4,
 "nbformat_minor": 2
}
